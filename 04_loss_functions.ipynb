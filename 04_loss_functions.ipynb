{
  "cells": [
    {
      "cell_type": "markdown",
      "metadata": {
        "colab_type": "text",
        "id": "91OmaEPyU934"
      },
      "source": [
        "# Loss Functions Implementation"
      ]
    },
    {
      "cell_type": "code",
      "execution_count": 2,
      "metadata": {
        "colab": {},
        "colab_type": "code",
        "id": "HiJE9dQOJnpY"
      },
      "outputs": [
        {
          "name": "stdout",
          "output_type": "stream",
          "text": [
            "cpu\n"
          ]
        }
      ],
      "source": [
        "import torch\n",
        "from torch import nn\n",
        "\n",
        "if torch.cuda.is_available():\n",
        "  device = torch.device('cuda')\n",
        "else:\n",
        "  device = torch.device('cpu')\n",
        "\n",
        "print(device)"
      ]
    },
    {
      "cell_type": "markdown",
      "metadata": {
        "colab_type": "text",
        "id": "139Z-qFgQUiH"
      },
      "source": [
        "### Loading a wine dataset for testing.\n",
        "\n",
        "https://scikit-learn.org/stable/modules/generated/sklearn.datasets.load_wine.html"
      ]
    },
    {
      "cell_type": "code",
      "execution_count": 3,
      "metadata": {
        "colab": {},
        "colab_type": "code",
        "id": "gvJEZr8BQIgG"
      },
      "outputs": [
        {
          "name": "stdout",
          "output_type": "stream",
          "text": [
            "(178, 13) (178,)\n",
            "['alcohol', 'malic_acid', 'ash', 'alcalinity_of_ash', 'magnesium', 'total_phenols', 'flavanoids', 'nonflavanoid_phenols', 'proanthocyanins', 'color_intensity', 'hue', 'od280/od315_of_diluted_wines', 'proline'] ['class_0' 'class_1' 'class_2']\n"
          ]
        }
      ],
      "source": [
        "from sklearn import datasets\n",
        "\n",
        "wine = datasets.load_wine()\n",
        "data = wine.data\n",
        "target = wine.target\n",
        "\n",
        "print(data.shape, target.shape)\n",
        "print(wine.feature_names, wine.target_names)"
      ]
    },
    {
      "cell_type": "markdown",
      "metadata": {
        "colab_type": "text",
        "id": "iRSDsjmqVTB2"
      },
      "source": [
        "\n",
        "Creating a MLP model for the wine dataset with a hidden layer of 32 neurons"
      ]
    },
    {
      "cell_type": "code",
      "execution_count": 4,
      "metadata": {
        "colab": {},
        "colab_type": "code",
        "id": "HVXMwEEjVTa3"
      },
      "outputs": [
        {
          "name": "stdout",
          "output_type": "stream",
          "text": [
            "WineClassifier(\n",
            "  (hidden): Linear(in_features=13, out_features=32, bias=True)\n",
            "  (relu): ReLU()\n",
            "  (out): Linear(in_features=32, out_features=3, bias=True)\n",
            "  (softmax): Softmax(dim=-1)\n",
            ")\n"
          ]
        }
      ],
      "source": [
        "class WineClassifier(nn.Module):\n",
        "\n",
        "  def __init__(self, input_size, hidden_size, out_size):\n",
        "    super(WineClassifier, self).__init__()\n",
        "\n",
        "    self.hidden  = nn.Linear(input_size, hidden_size)\n",
        "    self.relu    = nn.ReLU()\n",
        "    self.out     = nn.Linear(hidden_size, out_size)\n",
        "    self.softmax = nn.Softmax(dim=-1) # Softmax is used for multi-class classification probability\n",
        "\n",
        "  def forward(self, X):\n",
        "    \n",
        "    feature = self.relu(self.hidden(X))\n",
        "    output  = self.softmax(self.out(feature))\n",
        "\n",
        "    return output\n",
        "\n",
        "input_size  = data.shape[1]\n",
        "hidden_size = 32\n",
        "out_size    = len(wine.target_names)\n",
        "\n",
        "net = WineClassifier(input_size, hidden_size, out_size).to(device) #cast on GPU \n",
        "print(net)"
      ]
    },
    {
      "cell_type": "markdown",
      "metadata": {
        "colab_type": "text",
        "id": "Wzm3ruHeWhKR"
      },
      "source": [
        "## Classification\n",
        "\n",
        "For this use case, we will use CrossEntropyLoss loss function because it is a multi-class classification problem\n",
        "\n",
        "Ref: https://pytorch.org/docs/stable/nn.html#crossentropyloss \n"
      ]
    },
    {
      "cell_type": "code",
      "execution_count": 7,
      "metadata": {
        "colab": {},
        "colab_type": "code",
        "id": "ZWSHXeO-WbQh"
      },
      "outputs": [
        {
          "name": "stdout",
          "output_type": "stream",
          "text": [
            "Xtns: torch.Size([178, 13]), Ytns: torch.Size([178])\n",
            "Xtns dtype: torch.float32, Ytns dtype: torch.int64\n",
            "\n",
            "pred: torch.Size([178, 3])\n",
            "\n",
            "pred[0].data: tensor([1.1575e-14, 9.5790e-16, 1.0000e+00]), Ytns[0].data: 0\n"
          ]
        }
      ],
      "source": [
        "# Cast values as torch tensors and define loss function\n",
        "criterion = nn.CrossEntropyLoss()\n",
        "Xtns = torch.from_numpy(data).float()\n",
        "Ytns = torch.from_numpy(target)\n",
        "\n",
        "# Cast on GPU\n",
        "criterion = criterion.to(device)\n",
        "Xtns = Xtns.to(device)\n",
        "Ytns = Ytns.to(device)\n",
        "\n",
        "print(f\"Xtns: {Xtns.shape}, Ytns: {Ytns.shape}\\nXtns dtype: {Xtns.dtype}, Ytns dtype: {Ytns.dtype}\\n\")\n",
        "\n",
        "# Define prediction\n",
        "pred = net(Xtns)\n",
        "print(f\"pred: {pred.shape}\\n\")\n",
        "print(f\"pred[0].data: {pred[0].data}, Ytns[0].data: {Ytns[0].data}\")"
      ]
    },
    {
      "cell_type": "markdown",
      "metadata": {
        "colab_type": "text",
        "id": "b6RQRX0ZYXtH"
      },
      "source": [
        "### Loss functions dimensions for CrossEntropy:\n",
        "* prediction: ```(N, C)```\n",
        "* target: ```(N,)```"
      ]
    },
    {
      "cell_type": "code",
      "execution_count": 8,
      "metadata": {
        "colab": {},
        "colab_type": "code",
        "id": "uo-xj2_na6fT"
      },
      "outputs": [
        {
          "name": "stdout",
          "output_type": "stream",
          "text": [
            "tensor(1.2818, grad_fn=<NllLossBackward0>)\n"
          ]
        }
      ],
      "source": [
        "loss = criterion(pred, Ytns)\n",
        "print(loss)"
      ]
    },
    {
      "cell_type": "markdown",
      "metadata": {
        "colab_type": "text",
        "id": "qniVROKSc4RW"
      },
      "source": [
        "## Regression\n"
      ]
    },
    {
      "cell_type": "markdown",
      "metadata": {
        "colab_type": "text",
        "id": "1LyOLrztc2cQ"
      },
      "source": [
        "### Loading a diabetes dataset for regression testing.\n",
        "https://scikit-learn.org/stable/datasets/index.html#diabetes-dataset"
      ]
    },
    {
      "cell_type": "code",
      "execution_count": 9,
      "metadata": {
        "colab": {
          "base_uri": "https://localhost:8080/",
          "height": 111
        },
        "colab_type": "code",
        "id": "X_vTwg_fc24l",
        "outputId": "4c766018-f632-41fc-de8b-b38d8af8433c"
      },
      "outputs": [
        {
          "name": "stdout",
          "output_type": "stream",
          "text": [
            "(442, 10) (442,)\n",
            "[ 4.53409833e-02 -4.46416365e-02 -2.56065715e-02 -1.25561242e-02\n",
            "  1.76943802e-02 -6.12835791e-05  8.17748397e-02 -3.94933829e-02\n",
            " -3.19876395e-02 -7.56356220e-02]\n",
            "118.0\n"
          ]
        }
      ],
      "source": [
        "from sklearn import datasets\n",
        "\n",
        "diabetes = datasets.load_diabetes()\n",
        "data = diabetes.data\n",
        "target = diabetes.target\n",
        "\n",
        "print(data.shape, target.shape)\n",
        "\n",
        "print(data[14])\n",
        "print(target[14])"
      ]
    },
    {
      "cell_type": "markdown",
      "metadata": {
        "colab_type": "text",
        "id": "dC3OaC5VdXng"
      },
      "source": [
        "Implementing DiabetesClassifier MLP"
      ]
    },
    {
      "cell_type": "code",
      "execution_count": 11,
      "metadata": {
        "colab": {},
        "colab_type": "code",
        "id": "rGKUNv31dXC8"
      },
      "outputs": [],
      "source": [
        "class DiabetesClassifier(nn.Module):\n",
        "\n",
        "  def __init__(self, input_size, hidden_size, out_size):\n",
        "    super(DiabetesClassifier, self).__init__()\n",
        "\n",
        "    self.hidden  = nn.Linear(input_size, hidden_size)\n",
        "    self.relu    = nn.ReLU()\n",
        "    self.out     = nn.Linear(hidden_size, out_size)\n",
        "    self.softmax = nn.Softmax(dim=-1)\n",
        "\n",
        "  def forward(self, X):\n",
        "    \n",
        "    feature = self.relu(self.hidden(X))\n",
        "    output  = self.softmax(self.out(feature))\n",
        "\n",
        "    return output\n",
        "\n",
        "input_size  = data.shape[1]\n",
        "hidden_size = 32\n",
        "out_size    = 1  # Progressão da diabetes\n",
        "\n",
        "net = DiabetesClassifier(input_size, hidden_size, out_size).to(device) #cast na GPU "
      ]
    },
    {
      "cell_type": "markdown",
      "metadata": {
        "colab_type": "text",
        "id": "PRrZkE19c15k"
      },
      "source": [
        "### *MSELoss* mean squared error function:\n",
        "Doc: https://pytorch.org/docs/stable/nn.html#mseloss"
      ]
    },
    {
      "cell_type": "code",
      "execution_count": 14,
      "metadata": {
        "colab": {
          "base_uri": "https://localhost:8080/",
          "height": 36
        },
        "colab_type": "code",
        "id": "Jzu7ZxbdcRsu",
        "outputId": "c79913b9-919b-43c8-ce0d-5ca73d5de9be"
      },
      "outputs": [
        {
          "name": "stdout",
          "output_type": "stream",
          "text": [
            "Xtns: torch.Size([442, 10]), Ytns: torch.Size([442])\n",
            "Xtns dtype: torch.float32, Ytns dtype: torch.float32\n",
            "\n",
            "pred: torch.Size([442, 1])\n",
            "\n",
            "loss: 28771.21484375\n",
            "loss: 28771.21484375\n"
          ]
        }
      ],
      "source": [
        "# Cast on GPU\n",
        "criterion = nn.MSELoss().to(device)\n",
        "Xtns = torch.from_numpy(data).float().to(device)\n",
        "Ytns = torch.from_numpy(target).float().to(device)\n",
        "\n",
        "print(f\"Xtns: {Xtns.shape}, Ytns: {Ytns.shape}\\nXtns dtype: {Xtns.dtype}, Ytns dtype: {Ytns.dtype}\\n\")\n",
        "\n",
        "# Define prediction\n",
        "pred = net(Xtns)\n",
        "print(f\"pred: {pred.shape}\\n\")\n",
        "\n",
        "loss = criterion(pred.squeeze(), Ytns)\n",
        "print(f\"loss: {loss}\")"
      ]
    },
    {
      "cell_type": "markdown",
      "metadata": {},
      "source": [
        "### L1 Loss Function\n",
        "https://pytorch.org/docs/stable/generated/torch.nn.L1Loss.html#torch.nn.L1Loss"
      ]
    },
    {
      "cell_type": "code",
      "execution_count": 19,
      "metadata": {},
      "outputs": [
        {
          "name": "stdout",
          "output_type": "stream",
          "text": [
            "loss: 151.13348388671875\n"
          ]
        }
      ],
      "source": [
        "criterion = nn.L1Loss().to(device)\n",
        "pred = net(Xtns)\n",
        "\n",
        "loss = criterion(pred.squeeze(), Ytns)\n",
        "print(f\"loss: {loss}\")"
      ]
    },
    {
      "cell_type": "markdown",
      "metadata": {
        "colab_type": "text",
        "id": "g92P_wBNgyb-"
      },
      "source": [
        "## All pytorch loss functions doc\n",
        "https://pytorch.org/docs/stable/nn.html#loss-functions"
      ]
    }
  ],
  "metadata": {
    "accelerator": "GPU",
    "colab": {
      "name": "Funções de Perda.ipynb",
      "provenance": []
    },
    "kernelspec": {
      "display_name": "Python 3",
      "name": "python3"
    },
    "language_info": {
      "codemirror_mode": {
        "name": "ipython",
        "version": 3
      },
      "file_extension": ".py",
      "mimetype": "text/x-python",
      "name": "python",
      "nbconvert_exporter": "python",
      "pygments_lexer": "ipython3",
      "version": "3.10.14"
    }
  },
  "nbformat": 4,
  "nbformat_minor": 0
}
