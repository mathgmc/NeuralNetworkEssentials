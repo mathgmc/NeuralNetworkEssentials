{
  "cells": [
    {
      "cell_type": "markdown",
      "metadata": {
        "colab_type": "text",
        "id": "JDM84H0wO5I_"
      },
      "source": [
        "# Predict Bike Rental\n",
        "\n",
        "In this notebook we will be loading an external dataset into pytorch and train a neural network with it."
      ]
    },
    {
      "cell_type": "code",
      "execution_count": null,
      "metadata": {
        "colab": {
          "base_uri": "https://localhost:8080/",
          "height": 34
        },
        "colab_type": "code",
        "id": "QfisIdsWlioB",
        "outputId": "70b1ec97-38f8-4123-b694-cad9352a80fb"
      },
      "outputs": [],
      "source": [
        "import torch\n",
        "from torch import nn\n",
        "from torch import optim\n",
        "\n",
        "from torch.utils.data import Dataset\n",
        "from torch.utils.data import DataLoader\n",
        "\n",
        "from sklearn import metrics\n",
        "from sklearn.preprocessing import StandardScaler\n",
        "\n",
        "import numpy as np\n",
        "import time\n",
        "import os\n",
        "\n",
        "\n",
        "import matplotlib.pyplot as plt\n",
        "%matplotlib inline\n",
        "\n",
        "args = {\n",
        "    'epoch_num': 200,     \n",
        "    'lr': 5e-5,           \n",
        "    'weight_decay': 5e-4, \n",
        "    'num_workers': 3,     \n",
        "    'batch_size': 20,     \n",
        "}\n",
        "\n",
        "if torch.cuda.is_available():\n",
        "    args['device'] = torch.device('cuda')\n",
        "else:\n",
        "    args['device'] = torch.device('cpu')\n",
        "\n",
        "print(args['device'])"
      ]
    },
    {
      "cell_type": "markdown",
      "metadata": {
        "colab_type": "text",
        "id": "UyXDulgH77_s"
      },
      "source": [
        "## Loading Dataset "
      ]
    },
    {
      "cell_type": "markdown",
      "metadata": {
        "colab_type": "text",
        "id": "3ydTqRvqH-1-"
      },
      "source": [
        "### Download the dataset\n",
        "\n",
        "ref: https://archive.ics.uci.edu/ml/datasets/Bike+Sharing+Dataset\n",
        "\n"
      ]
    },
    {
      "cell_type": "code",
      "execution_count": null,
      "metadata": {
        "colab": {
          "base_uri": "https://localhost:8080/",
          "height": 272
        },
        "colab_type": "code",
        "id": "ecgKLh2aKYH5",
        "outputId": "d2e9f410-2796-4127-c845-42315aa66c72"
      },
      "outputs": [],
      "source": [
        "# Commented in order to avoid download the dataset again.\n",
        "#! wget https://archive.ics.uci.edu/ml/machine-learning-databases/00275/Bike-Sharing-Dataset.zip\n",
        "#! unzip Bike-Sharing-Dataset.zip  "
      ]
    },
    {
      "cell_type": "markdown",
      "metadata": {
        "colab_type": "text",
        "id": "GjsCxBQJsTce"
      },
      "source": [
        "### Checking data"
      ]
    },
    {
      "cell_type": "code",
      "execution_count": null,
      "metadata": {
        "colab": {
          "base_uri": "https://localhost:8080/",
          "height": 326
        },
        "colab_type": "code",
        "id": "bUkvnM8SKlY3",
        "outputId": "96916e77-bf6d-4dfa-eac8-524495c4c5e1"
      },
      "outputs": [],
      "source": [
        "import pandas as pd\n",
        "df = pd.read_csv('hour.csv')\n",
        "print(len(df))\n",
        "df.head()"
      ]
    },
    {
      "cell_type": "markdown",
      "metadata": {
        "colab_type": "text",
        "id": "PcvrTUl2OLmL"
      },
      "source": [
        "### Spliting dataset into train and test\n",
        "\n",
        "`torch.randperm` selects a random permutation of integers from 0 to len(df) - 1.\n",
        "\n",
        "Doc: https://pytorch.org/docs/stable/torch.html#torch.randperm"
      ]
    },
    {
      "cell_type": "code",
      "execution_count": null,
      "metadata": {
        "colab": {
          "base_uri": "https://localhost:8080/",
          "height": 360
        },
        "colab_type": "code",
        "id": "AnjCdm1bMqhG",
        "outputId": "7c307c94-e1bd-433c-955d-712da1f20feb"
      },
      "outputs": [],
      "source": [
        "\n",
        "torch.manual_seed(1)\n",
        "indices = torch.randperm(len(df)).tolist()\n",
        "\n",
        "train_size = int(0.8*len(df))\n",
        "df_train = df.iloc[indices[:train_size]]\n",
        "df_test  = df.iloc[indices[train_size:]]\n",
        "\n",
        "print(len(df_train), len(df_test))\n",
        "display(df_test.head())\n",
        "\n",
        "df_train.to_csv('bike_train.csv',index=False)\n",
        "df_test.to_csv('bike_test.csv',index=False)\n",
        "!ls"
      ]
    },
    {
      "cell_type": "markdown",
      "metadata": {
        "colab_type": "text",
        "id": "daUL9nMxICW0"
      },
      "source": [
        "### Creating Dataset Class\n",
        "\n",
        "`torch.util.data.Dataset` - Allows us to implement our own dataset.\n",
        "\n",
        "Overwrite methods?\n",
        "* ```__init__(self)```: Define the list of data from your dataset\n",
        "* ```__getitem__(self, idx)```: Load a data, transforms and returns a tuple `(data, result)`.\n",
        "* ```__len__(self)```: Returns the dataset lenght\n",
        "\n",
        "ref: https://pytorch.org/tutorials/beginner/data_loading_tutorial.html\n"
      ]
    },
    {
      "cell_type": "code",
      "execution_count": null,
      "metadata": {
        "colab": {},
        "colab_type": "code",
        "id": "jaLPZteS9fkW"
      },
      "outputs": [],
      "source": [
        "class BikeRental(Dataset):\n",
        "  def __init__(self, csv_path, scaler_feat=None, scaler_label=None):\n",
        "  \n",
        "    self.dados = pd.read_csv(csv_path).to_numpy()\n",
        "    \n",
        "  def __getitem__(self, idx):\n",
        "    \n",
        "    sample = self.dados[idx][2:14]\n",
        "    label  = self.dados[idx][-1:]\n",
        "\n",
        "    sample = torch.from_numpy(sample.astype(np.float32))\n",
        "    label  = torch.from_numpy(label.astype(np.float32))\n",
        "    \n",
        "    return sample, label\n",
        "    \n",
        "  def __len__(self):\n",
        "    return len(self.dados)"
      ]
    },
    {
      "cell_type": "code",
      "execution_count": null,
      "metadata": {
        "colab": {
          "base_uri": "https://localhost:8080/",
          "height": 68
        },
        "colab_type": "code",
        "id": "Sd4yl7sbQQGr",
        "outputId": "eaf1f6e9-af4c-4302-e780-a453d99c4411"
      },
      "outputs": [],
      "source": [
        "dataset = BikeRental('bike_train.csv')\n",
        "dado, rotulo = dataset[0]\n",
        "print(rotulo)\n",
        "print(dado)"
      ]
    },
    {
      "cell_type": "markdown",
      "metadata": {
        "colab_type": "text",
        "id": "CwS8q0l0v8cP"
      },
      "source": [
        "### Defining train and test datasets"
      ]
    },
    {
      "cell_type": "code",
      "execution_count": null,
      "metadata": {
        "colab": {
          "base_uri": "https://localhost:8080/",
          "height": 51
        },
        "colab_type": "code",
        "id": "G8nAUzhxUlrZ",
        "outputId": "344cf7b1-8650-42d0-a941-472a05b53921"
      },
      "outputs": [],
      "source": [
        "train_set = BikeRental('bike_train.csv')\n",
        "test_set  = BikeRental('bike_test.csv')\n",
        "\n",
        "print('Train: ' + str(len(train_set)))\n",
        "print('Test: ' + str(len(test_set)))"
      ]
    },
    {
      "cell_type": "markdown",
      "metadata": {
        "colab_type": "text",
        "id": "yZq6iuq6lQ9N"
      },
      "source": [
        "## Dataloader\n"
      ]
    },
    {
      "cell_type": "code",
      "execution_count": null,
      "metadata": {
        "colab": {},
        "colab_type": "code",
        "id": "xuETOc64MynK"
      },
      "outputs": [],
      "source": [
        "train_loader = DataLoader(train_set,\n",
        "                          args['batch_size'],\n",
        "                          # num_workers=args['num_workers'],\n",
        "                          shuffle=True)\n",
        "test_loader = DataLoader(test_set,\n",
        "                         args['batch_size'],\n",
        "                         # num_workers=args['num_workers'],\n",
        "                         shuffle=False)\n",
        "\n",
        "# TODO: find a solution for the problem with num_workers and Jupyter"
      ]
    },
    {
      "cell_type": "markdown",
      "metadata": {
        "colab_type": "text",
        "id": "m_wBx0Uesrgu"
      },
      "source": [
        "O objeto retornado é um **iterador**, podendo ser utilizado para iterar em loops mas não suportando indexação."
      ]
    },
    {
      "cell_type": "code",
      "execution_count": null,
      "metadata": {
        "colab": {
          "base_uri": "https://localhost:8080/",
          "height": 51
        },
        "colab_type": "code",
        "id": "6zw1aAcsVCyp",
        "outputId": "9f65eed9-0aec-4849-fd61-6f1c5f9b5f55"
      },
      "outputs": [],
      "source": [
        "for batch in test_loader:\n",
        "  dado, rotulo = batch\n",
        "  print('## Batch Dimension ##')\n",
        "  print(dado.size(), rotulo.size())\n",
        "  break"
      ]
    },
    {
      "cell_type": "markdown",
      "metadata": {
        "colab_type": "text",
        "id": "jPCE1MC8yf02"
      },
      "source": [
        "## Creating 2 hidden layer MLP"
      ]
    },
    {
      "cell_type": "code",
      "execution_count": null,
      "metadata": {
        "colab": {
          "base_uri": "https://localhost:8080/",
          "height": 221
        },
        "colab_type": "code",
        "id": "n-9spUHCUzBm",
        "outputId": "ff71e483-f77b-4086-feac-a60be74625a5"
      },
      "outputs": [],
      "source": [
        "class MLP(nn.Module):\n",
        "  \n",
        "  def __init__(self, input_size, hidden_size, out_size):\n",
        "    super(MLP, self).__init__()\n",
        "    \n",
        "    self.features = nn.Sequential(\n",
        "          nn.Linear(input_size, hidden_size),\n",
        "          nn.ReLU(),\n",
        "          nn.Linear(hidden_size, hidden_size),\n",
        "          nn.ReLU(),\n",
        "    )\n",
        "    \n",
        "    self.classifier = nn.Sequential(\n",
        "        nn.Linear(hidden_size, out_size),\n",
        "        nn.ReLU(),\n",
        "    )\n",
        "\n",
        "  def forward(self, X):\n",
        "    \n",
        "    hidden = self.features(X)\n",
        "    output = self.classifier(hidden)\n",
        "    \n",
        "    return output\n",
        "\n",
        "input_size  = train_set[0][0].size(0)\n",
        "hidden_size = 128\n",
        "out_size    = 1\n",
        "\n",
        "net = MLP(input_size, hidden_size, out_size).to(args['device'])\n",
        "print(net)"
      ]
    },
    {
      "cell_type": "markdown",
      "metadata": {
        "colab_type": "text",
        "id": "sb7zTsWV1cyQ"
      },
      "source": [
        "## Loss function and Optimizer"
      ]
    },
    {
      "cell_type": "code",
      "execution_count": null,
      "metadata": {
        "colab": {},
        "colab_type": "code",
        "id": "nx4MecnX1e2E"
      },
      "outputs": [],
      "source": [
        "criterion = nn.L1Loss().to(args['device'])\n",
        "\n",
        "optimizer = optim.Adam(net.parameters(), lr=args['lr'], weight_decay=args['weight_decay'])"
      ]
    },
    {
      "cell_type": "markdown",
      "metadata": {
        "colab_type": "text",
        "id": "1ujnT7rl0bjg"
      },
      "source": [
        "## Training and Validation"
      ]
    },
    {
      "cell_type": "code",
      "execution_count": null,
      "metadata": {
        "colab": {},
        "colab_type": "code",
        "id": "BUwXgLyM4V2T"
      },
      "outputs": [],
      "source": [
        "def train(train_loader, net, epoch):\n",
        "\n",
        "  # Training mode\n",
        "  net.train()\n",
        "  \n",
        "  start = time.time()\n",
        "  \n",
        "  epoch_loss  = []\n",
        "  for batch in train_loader:\n",
        "    \n",
        "    dado, rotulo = batch\n",
        "    \n",
        "    # Cast do dado na GPU\n",
        "    dado = dado.to(args['device'])\n",
        "    rotulo = rotulo.to(args['device'])\n",
        "    \n",
        "    # Forward\n",
        "    ypred = net(dado)\n",
        "    loss = criterion(ypred, rotulo)\n",
        "    epoch_loss.append(loss.cpu().data)\n",
        "    \n",
        "    # Backpropagation\n",
        "    loss.backward()\n",
        "    optimizer.step()\n",
        "   \n",
        "  epoch_loss = np.asarray(epoch_loss)\n",
        "  \n",
        "  end = time.time()\n",
        "  print('#################### Train ####################')\n",
        "  print('Epoch %d, Loss: %.4f +/- %.4f, Time: %.2f' % (epoch, epoch_loss.mean(), epoch_loss.std(), end-start))\n",
        "  \n",
        "  return epoch_loss.mean()\n",
        "    "
      ]
    },
    {
      "cell_type": "code",
      "execution_count": null,
      "metadata": {
        "colab": {},
        "colab_type": "code",
        "id": "79KDmwyL4l89"
      },
      "outputs": [],
      "source": [
        "def validate(test_loader, net, epoch):\n",
        "\n",
        "  # Evaluation mode\n",
        "  net.eval()\n",
        "  \n",
        "  start = time.time()\n",
        "  \n",
        "  epoch_loss  = []\n",
        "  \n",
        "  with torch.no_grad(): \n",
        "    for batch in test_loader:\n",
        "\n",
        "      dado, rotulo = batch\n",
        "\n",
        "      # Cast do dado na GPU\n",
        "      dado = dado.to(args['device'])\n",
        "      rotulo = rotulo.to(args['device'])\n",
        "\n",
        "      # Forward\n",
        "      ypred = net(dado)\n",
        "      loss = criterion(ypred, rotulo)\n",
        "      epoch_loss.append(loss.cpu().data)\n",
        "\n",
        "  epoch_loss = np.asarray(epoch_loss)\n",
        "  \n",
        "  end = time.time()\n",
        "  print('********** Validate **********')\n",
        "  print('Epoch %d, Loss: %.4f +/- %.4f, Time: %.2f\\n' % (epoch, epoch_loss.mean(), epoch_loss.std(), end-start))\n",
        "  \n",
        "  return epoch_loss.mean()\n",
        "    "
      ]
    },
    {
      "cell_type": "code",
      "execution_count": null,
      "metadata": {
        "colab": {
          "base_uri": "https://localhost:8080/",
          "height": 1000
        },
        "colab_type": "code",
        "id": "95dKe7by6Qot",
        "outputId": "e48a5af3-413a-4e41-bf06-5abc79915450"
      },
      "outputs": [],
      "source": [
        "train_losses, test_losses = [], []\n",
        "for epoch in range(args['epoch_num']):\n",
        "  \n",
        "  # Train\n",
        "  train_losses.append(train(train_loader, net, epoch))\n",
        "  \n",
        "  # Validate\n",
        "  test_losses.append(validate(test_loader, net, epoch))"
      ]
    },
    {
      "cell_type": "code",
      "execution_count": null,
      "metadata": {
        "colab": {
          "base_uri": "https://localhost:8080/",
          "height": 669
        },
        "colab_type": "code",
        "id": "FqTmpWzUV40g",
        "outputId": "4e0e2263-9acc-47b3-8e9f-aeaacb7d08a0"
      },
      "outputs": [],
      "source": [
        "Xtest = torch.stack([tup[0] for tup in test_set])\n",
        "Xtest = Xtest.to(args['device'])\n",
        "\n",
        "ytest = torch.stack([tup[1] for tup in test_set])\n",
        "ypred = net(Xtest).cpu().data\n",
        "\n",
        "data = torch.cat((ytest, ypred), axis=1)\n",
        "\n",
        "df_results = pd.DataFrame(data, columns=['ypred', 'ytest'])\n",
        "df_results.head(20)"
      ]
    },
    {
      "cell_type": "markdown",
      "metadata": {
        "colab_type": "text",
        "id": "8I5L8uae15qz"
      },
      "source": [
        "# Gráfico de convergência"
      ]
    },
    {
      "cell_type": "code",
      "execution_count": null,
      "metadata": {
        "colab": {
          "base_uri": "https://localhost:8080/",
          "height": 594
        },
        "colab_type": "code",
        "id": "LDM-Iki543ID",
        "outputId": "c8787fdd-ff72-4aab-ec02-49bc13841f6c"
      },
      "outputs": [],
      "source": [
        "plt.figure(figsize=(20, 9))\n",
        "plt.plot(train_losses, label='Train')\n",
        "plt.plot(test_losses, label='Test', linewidth=3, alpha=0.5)\n",
        "plt.xlabel('Epochs', fontsize=16)\n",
        "plt.ylabel('Loss', fontsize=16)\n",
        "plt.title('Convergence', fontsize=16)\n",
        "plt.legend()\n",
        "plt.show()"
      ]
    }
  ],
  "metadata": {
    "accelerator": "GPU",
    "colab": {
      "collapsed_sections": [],
      "name": "Carregamento de Dados II.ipynb",
      "provenance": []
    },
    "kernelspec": {
      "display_name": "Python 3",
      "name": "python3"
    },
    "language_info": {
      "codemirror_mode": {
        "name": "ipython",
        "version": 3
      },
      "file_extension": ".py",
      "mimetype": "text/x-python",
      "name": "python",
      "nbconvert_exporter": "python",
      "pygments_lexer": "ipython3",
      "version": "3.10.14"
    }
  },
  "nbformat": 4,
  "nbformat_minor": 0
}
